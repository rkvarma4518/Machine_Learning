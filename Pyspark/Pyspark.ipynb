{
 "cells": [
  {
   "cell_type": "markdown",
   "id": "01030e5c",
   "metadata": {},
   "source": [
    "# Basic"
   ]
  },
  {
   "cell_type": "code",
   "execution_count": 1,
   "id": "33ebbe9b",
   "metadata": {},
   "outputs": [],
   "source": [
    "import pyspark\n",
    "from pyspark.sql import SparkSession"
   ]
  },
  {
   "cell_type": "code",
   "execution_count": 2,
   "id": "96636737",
   "metadata": {},
   "outputs": [],
   "source": [
    "spark = SparkSession.builder.appName('practice').getOrCreate()"
   ]
  },
  {
   "cell_type": "code",
   "execution_count": 3,
   "id": "640610cd",
   "metadata": {},
   "outputs": [
    {
     "data": {
      "text/html": [
       "\n",
       "            <div>\n",
       "                <p><b>SparkSession - in-memory</b></p>\n",
       "                \n",
       "        <div>\n",
       "            <p><b>SparkContext</b></p>\n",
       "\n",
       "            <p><a href=\"http://DESKTOP-AK094UT:4040\">Spark UI</a></p>\n",
       "\n",
       "            <dl>\n",
       "              <dt>Version</dt>\n",
       "                <dd><code>v3.3.1</code></dd>\n",
       "              <dt>Master</dt>\n",
       "                <dd><code>local[*]</code></dd>\n",
       "              <dt>AppName</dt>\n",
       "                <dd><code>practice</code></dd>\n",
       "            </dl>\n",
       "        </div>\n",
       "        \n",
       "            </div>\n",
       "        "
      ],
      "text/plain": [
       "<pyspark.sql.session.SparkSession at 0x1eac6879a60>"
      ]
     },
     "execution_count": 3,
     "metadata": {},
     "output_type": "execute_result"
    }
   ],
   "source": [
    "spark"
   ]
  },
  {
   "cell_type": "code",
   "execution_count": 4,
   "id": "657d0451",
   "metadata": {},
   "outputs": [],
   "source": [
    "df = spark.read.csv('dummy.csv')"
   ]
  },
  {
   "cell_type": "code",
   "execution_count": 5,
   "id": "f1a070f3",
   "metadata": {},
   "outputs": [
    {
     "name": "stdout",
     "output_type": "stream",
     "text": [
      "+----+----+----------+-------+\n",
      "| _c0| _c1|       _c2|    _c3|\n",
      "+----+----+----------+-------+\n",
      "|Name| Age|Experience|Sallary|\n",
      "| ABC|  22|         5|  30000|\n",
      "| PQR|  30|         3|  20000|\n",
      "| XYZ|  24|         6|   null|\n",
      "| DEF|null|         4|  25000|\n",
      "| JKL|  20|         3|  15000|\n",
      "+----+----+----------+-------+\n",
      "\n"
     ]
    }
   ],
   "source": [
    "df.show()"
   ]
  },
  {
   "cell_type": "code",
   "execution_count": 6,
   "id": "1eaf407d",
   "metadata": {},
   "outputs": [
    {
     "data": {
      "text/plain": [
       "pyspark.sql.dataframe.DataFrame"
      ]
     },
     "execution_count": 6,
     "metadata": {},
     "output_type": "execute_result"
    }
   ],
   "source": [
    "type(df)"
   ]
  },
  {
   "cell_type": "code",
   "execution_count": 7,
   "id": "a708fa11",
   "metadata": {},
   "outputs": [],
   "source": [
    "df1 = spark.read.csv('dummy.csv',inferSchema=True)"
   ]
  },
  {
   "cell_type": "code",
   "execution_count": 8,
   "id": "34ef5f1e",
   "metadata": {},
   "outputs": [
    {
     "data": {
      "text/plain": [
       "[Row(_c0='Name', _c1='Age', _c2='Experience', _c3='Sallary'),\n",
       " Row(_c0='ABC', _c1='22', _c2='5', _c3='30000'),\n",
       " Row(_c0='PQR', _c1='30', _c2='3', _c3='20000'),\n",
       " Row(_c0='XYZ', _c1='24', _c2='6', _c3=None)]"
      ]
     },
     "execution_count": 8,
     "metadata": {},
     "output_type": "execute_result"
    }
   ],
   "source": [
    "df1.head(4)"
   ]
  },
  {
   "cell_type": "code",
   "execution_count": 9,
   "id": "0bcfe734",
   "metadata": {},
   "outputs": [
    {
     "data": {
      "text/plain": [
       "[Row(_c0='DEF', _c1=None, _c2='4', _c3='25000'),\n",
       " Row(_c0='JKL', _c1='20', _c2='3', _c3='15000')]"
      ]
     },
     "execution_count": 9,
     "metadata": {},
     "output_type": "execute_result"
    }
   ],
   "source": [
    "df1.tail(2)"
   ]
  },
  {
   "cell_type": "code",
   "execution_count": 10,
   "id": "f48a9539",
   "metadata": {},
   "outputs": [
    {
     "name": "stdout",
     "output_type": "stream",
     "text": [
      "root\n",
      " |-- _c0: string (nullable = true)\n",
      " |-- _c1: string (nullable = true)\n",
      " |-- _c2: string (nullable = true)\n",
      " |-- _c3: string (nullable = true)\n",
      "\n"
     ]
    }
   ],
   "source": [
    "df1.printSchema()"
   ]
  },
  {
   "cell_type": "markdown",
   "id": "b100fd2c",
   "metadata": {},
   "source": [
    "Datatype"
   ]
  },
  {
   "cell_type": "code",
   "execution_count": 11,
   "id": "2e4a7f82",
   "metadata": {},
   "outputs": [],
   "source": [
    "df2 = spark.read.csv('dummy.csv',inferSchema=True)"
   ]
  },
  {
   "cell_type": "code",
   "execution_count": 12,
   "id": "d109f62a",
   "metadata": {},
   "outputs": [
    {
     "name": "stdout",
     "output_type": "stream",
     "text": [
      "root\n",
      " |-- _c0: string (nullable = true)\n",
      " |-- _c1: string (nullable = true)\n",
      " |-- _c2: string (nullable = true)\n",
      " |-- _c3: string (nullable = true)\n",
      "\n"
     ]
    }
   ],
   "source": [
    "df2.printSchema()"
   ]
  },
  {
   "cell_type": "markdown",
   "id": "a6b10ae4",
   "metadata": {},
   "source": [
    "First row as column name"
   ]
  },
  {
   "cell_type": "code",
   "execution_count": 13,
   "id": "41979ec3",
   "metadata": {},
   "outputs": [],
   "source": [
    "df3 = spark.read.csv('dummy.csv',header=True,inferSchema=True)"
   ]
  },
  {
   "cell_type": "code",
   "execution_count": 14,
   "id": "22089355",
   "metadata": {},
   "outputs": [
    {
     "name": "stdout",
     "output_type": "stream",
     "text": [
      "+----+----+----------+-------+\n",
      "|Name| Age|Experience|Sallary|\n",
      "+----+----+----------+-------+\n",
      "| ABC|  22|         5|  30000|\n",
      "| PQR|  30|         3|  20000|\n",
      "| XYZ|  24|         6|   null|\n",
      "| DEF|null|         4|  25000|\n",
      "| JKL|  20|         3|  15000|\n",
      "+----+----+----------+-------+\n",
      "\n"
     ]
    }
   ],
   "source": [
    "df3.show()"
   ]
  },
  {
   "cell_type": "markdown",
   "id": "b9e50033",
   "metadata": {},
   "source": [
    "Column name"
   ]
  },
  {
   "cell_type": "code",
   "execution_count": 15,
   "id": "e81cb770",
   "metadata": {},
   "outputs": [
    {
     "data": {
      "text/plain": [
       "['Name', 'Age', 'Experience', 'Sallary']"
      ]
     },
     "execution_count": 15,
     "metadata": {},
     "output_type": "execute_result"
    }
   ],
   "source": [
    "df3.columns"
   ]
  },
  {
   "cell_type": "code",
   "execution_count": null,
   "id": "d5aa2657",
   "metadata": {},
   "outputs": [],
   "source": []
  },
  {
   "cell_type": "markdown",
   "id": "fafb35f0",
   "metadata": {},
   "source": [
    "# retrive column only"
   ]
  },
  {
   "cell_type": "code",
   "execution_count": 16,
   "id": "2907f67d",
   "metadata": {},
   "outputs": [
    {
     "name": "stdout",
     "output_type": "stream",
     "text": [
      "+----+\n",
      "|Name|\n",
      "+----+\n",
      "| ABC|\n",
      "| PQR|\n",
      "| XYZ|\n",
      "| DEF|\n",
      "| JKL|\n",
      "+----+\n",
      "\n"
     ]
    }
   ],
   "source": [
    "df3.select('Name').show()"
   ]
  },
  {
   "cell_type": "code",
   "execution_count": 17,
   "id": "2ed7b255",
   "metadata": {},
   "outputs": [
    {
     "name": "stdout",
     "output_type": "stream",
     "text": [
      "+----+----+\n",
      "|Name| Age|\n",
      "+----+----+\n",
      "| ABC|  22|\n",
      "| PQR|  30|\n",
      "| XYZ|  24|\n",
      "| DEF|null|\n",
      "| JKL|  20|\n",
      "+----+----+\n",
      "\n"
     ]
    }
   ],
   "source": [
    "df3.select('Name','Age').show()"
   ]
  },
  {
   "cell_type": "code",
   "execution_count": 18,
   "id": "8550f796",
   "metadata": {},
   "outputs": [
    {
     "data": {
      "text/plain": [
       "['Name', 'Age', 'Experience', 'Sallary']"
      ]
     },
     "execution_count": 18,
     "metadata": {},
     "output_type": "execute_result"
    }
   ],
   "source": [
    "df3.columns"
   ]
  },
  {
   "cell_type": "code",
   "execution_count": 19,
   "id": "bdba9f2c",
   "metadata": {},
   "outputs": [
    {
     "data": {
      "text/plain": [
       "[('Name', 'string'), ('Age', 'int'), ('Experience', 'int'), ('Sallary', 'int')]"
      ]
     },
     "execution_count": 19,
     "metadata": {},
     "output_type": "execute_result"
    }
   ],
   "source": [
    "df3.dtypes"
   ]
  },
  {
   "cell_type": "code",
   "execution_count": 20,
   "id": "3d280cd1",
   "metadata": {},
   "outputs": [
    {
     "name": "stdout",
     "output_type": "stream",
     "text": [
      "+-------+----+-----------------+------------------+-----------------+\n",
      "|summary|Name|              Age|        Experience|          Sallary|\n",
      "+-------+----+-----------------+------------------+-----------------+\n",
      "|  count|   5|                4|                 5|                4|\n",
      "|   mean|null|             24.0|               4.2|          22500.0|\n",
      "| stddev|null|4.320493798938573|1.3038404810405297|6454.972243679028|\n",
      "|    min| ABC|               20|                 3|            15000|\n",
      "|    max| XYZ|               30|                 6|            30000|\n",
      "+-------+----+-----------------+------------------+-----------------+\n",
      "\n"
     ]
    }
   ],
   "source": [
    "df3.describe().show()"
   ]
  },
  {
   "cell_type": "code",
   "execution_count": 21,
   "id": "2438b68a",
   "metadata": {},
   "outputs": [
    {
     "name": "stdout",
     "output_type": "stream",
     "text": [
      "+----+----+----------+-------+------------------------+\n",
      "|Name| Age|Experience|Sallary|Experience after 2 years|\n",
      "+----+----+----------+-------+------------------------+\n",
      "| ABC|  22|         5|  30000|                       7|\n",
      "| PQR|  30|         3|  20000|                       5|\n",
      "| XYZ|  24|         6|   null|                       8|\n",
      "| DEF|null|         4|  25000|                       6|\n",
      "| JKL|  20|         3|  15000|                       5|\n",
      "+----+----+----------+-------+------------------------+\n",
      "\n"
     ]
    }
   ],
   "source": [
    "df3.withColumn('Experience after 2 years', df3['Experience']+2).show()"
   ]
  },
  {
   "cell_type": "markdown",
   "id": "934b9fe9",
   "metadata": {},
   "source": [
    "Drop column"
   ]
  },
  {
   "cell_type": "code",
   "execution_count": 22,
   "id": "d3436414",
   "metadata": {},
   "outputs": [
    {
     "name": "stdout",
     "output_type": "stream",
     "text": [
      "+----+----+----------+-------+\n",
      "|Name| Age|Experience|Sallary|\n",
      "+----+----+----------+-------+\n",
      "| ABC|  22|         5|  30000|\n",
      "| PQR|  30|         3|  20000|\n",
      "| XYZ|  24|         6|   null|\n",
      "| DEF|null|         4|  25000|\n",
      "| JKL|  20|         3|  15000|\n",
      "+----+----+----------+-------+\n",
      "\n"
     ]
    }
   ],
   "source": [
    "df3 = df3.drop('Experience after 2 years').show()"
   ]
  },
  {
   "cell_type": "markdown",
   "id": "95a0485f",
   "metadata": {},
   "source": [
    "Column rename"
   ]
  },
  {
   "cell_type": "code",
   "execution_count": 24,
   "id": "582d191d",
   "metadata": {},
   "outputs": [],
   "source": [
    "df3 = spark.read.csv('dummy.csv',header=True,inferSchema=True)"
   ]
  },
  {
   "cell_type": "code",
   "execution_count": 25,
   "id": "6e347777",
   "metadata": {},
   "outputs": [
    {
     "name": "stdout",
     "output_type": "stream",
     "text": [
      "+--------+----+----------+-------+\n",
      "|New name| Age|Experience|Sallary|\n",
      "+--------+----+----------+-------+\n",
      "|     ABC|  22|         5|  30000|\n",
      "|     PQR|  30|         3|  20000|\n",
      "|     XYZ|  24|         6|   null|\n",
      "|     DEF|null|         4|  25000|\n",
      "|     JKL|  20|         3|  15000|\n",
      "+--------+----+----------+-------+\n",
      "\n"
     ]
    }
   ],
   "source": [
    "df3.withColumnRenamed('Name','New name').show()"
   ]
  },
  {
   "cell_type": "markdown",
   "id": "137367d8",
   "metadata": {},
   "source": [
    "Drop Row contain null-values"
   ]
  },
  {
   "cell_type": "code",
   "execution_count": 26,
   "id": "6b8bd0bc",
   "metadata": {},
   "outputs": [],
   "source": [
    "df4 = spark.read.csv('dummy.csv',header=True,inferSchema=True)"
   ]
  },
  {
   "cell_type": "code",
   "execution_count": 27,
   "id": "a2dad3da",
   "metadata": {},
   "outputs": [
    {
     "name": "stdout",
     "output_type": "stream",
     "text": [
      "+----+----+----------+-------+\n",
      "|Name| Age|Experience|Sallary|\n",
      "+----+----+----------+-------+\n",
      "| ABC|  22|         5|  30000|\n",
      "| PQR|  30|         3|  20000|\n",
      "| XYZ|  24|         6|   null|\n",
      "| DEF|null|         4|  25000|\n",
      "| JKL|  20|         3|  15000|\n",
      "+----+----+----------+-------+\n",
      "\n"
     ]
    }
   ],
   "source": [
    "df4.show()"
   ]
  },
  {
   "cell_type": "code",
   "execution_count": 28,
   "id": "9e369c4a",
   "metadata": {},
   "outputs": [
    {
     "name": "stdout",
     "output_type": "stream",
     "text": [
      "+----+---+----------+-------+\n",
      "|Name|Age|Experience|Sallary|\n",
      "+----+---+----------+-------+\n",
      "| ABC| 22|         5|  30000|\n",
      "| PQR| 30|         3|  20000|\n",
      "| JKL| 20|         3|  15000|\n",
      "+----+---+----------+-------+\n",
      "\n"
     ]
    }
   ],
   "source": [
    "df4.na.drop().show()"
   ]
  },
  {
   "cell_type": "markdown",
   "id": "9c6727ae",
   "metadata": {},
   "source": [
    "Threshold\n",
    "\n",
    "Delete only those row which having null values more than threshold"
   ]
  },
  {
   "cell_type": "code",
   "execution_count": 29,
   "id": "3fa1e36e",
   "metadata": {},
   "outputs": [],
   "source": [
    "df6 = spark.read.csv('dummy2.csv',header=True,inferSchema=True)"
   ]
  },
  {
   "cell_type": "code",
   "execution_count": 31,
   "id": "d8d04404",
   "metadata": {},
   "outputs": [
    {
     "name": "stdout",
     "output_type": "stream",
     "text": [
      "+----+----+----------+-------+\n",
      "|Name| Age|Experience|Sallary|\n",
      "+----+----+----------+-------+\n",
      "| ABC|  22|         5|  30000|\n",
      "| PQR|  30|         3|  20000|\n",
      "| XYZ|null|      null|   null|\n",
      "| DEF|null|         4|  25000|\n",
      "| JKL|  20|         3|  15000|\n",
      "+----+----+----------+-------+\n",
      "\n"
     ]
    }
   ],
   "source": [
    "df6.show()"
   ]
  },
  {
   "cell_type": "code",
   "execution_count": 32,
   "id": "327b62d4",
   "metadata": {},
   "outputs": [
    {
     "name": "stdout",
     "output_type": "stream",
     "text": [
      "+----+----+----------+-------+\n",
      "|Name| Age|Experience|Sallary|\n",
      "+----+----+----------+-------+\n",
      "| ABC|  22|         5|  30000|\n",
      "| PQR|  30|         3|  20000|\n",
      "| DEF|null|         4|  25000|\n",
      "| JKL|  20|         3|  15000|\n",
      "+----+----+----------+-------+\n",
      "\n"
     ]
    }
   ],
   "source": [
    "df6.na.drop(how = 'any', thresh=2).show()"
   ]
  },
  {
   "cell_type": "markdown",
   "id": "1c339aaf",
   "metadata": {},
   "source": [
    "Threshold on subset of dataframe"
   ]
  },
  {
   "cell_type": "code",
   "execution_count": 33,
   "id": "ddca0de3",
   "metadata": {},
   "outputs": [
    {
     "name": "stdout",
     "output_type": "stream",
     "text": [
      "+----+---+----------+-------+\n",
      "|Name|Age|Experience|Sallary|\n",
      "+----+---+----------+-------+\n",
      "| ABC| 22|         5|  30000|\n",
      "| PQR| 30|         3|  20000|\n",
      "| JKL| 20|         3|  15000|\n",
      "+----+---+----------+-------+\n",
      "\n"
     ]
    }
   ],
   "source": [
    "df6.na.drop(how = 'any', subset=['Age']).show()"
   ]
  },
  {
   "cell_type": "markdown",
   "id": "2138f71a",
   "metadata": {},
   "source": [
    "# Filling null values"
   ]
  },
  {
   "cell_type": "code",
   "execution_count": 34,
   "id": "1ccb3a58",
   "metadata": {},
   "outputs": [],
   "source": [
    "df7 = spark.read.csv('dummy2.csv',header=True,inferSchema=True)"
   ]
  },
  {
   "cell_type": "code",
   "execution_count": 35,
   "id": "4e4e2bf7",
   "metadata": {},
   "outputs": [
    {
     "name": "stdout",
     "output_type": "stream",
     "text": [
      "+----+----+----------+-------+\n",
      "|Name| Age|Experience|Sallary|\n",
      "+----+----+----------+-------+\n",
      "| ABC|  22|         5|  30000|\n",
      "| PQR|  30|         3|  20000|\n",
      "| XYZ|null|      null|   null|\n",
      "| DEF|null|         4|  25000|\n",
      "| JKL|  20|         3|  15000|\n",
      "+----+----+----------+-------+\n",
      "\n"
     ]
    }
   ],
   "source": [
    "df7.show()"
   ]
  },
  {
   "cell_type": "code",
   "execution_count": 43,
   "id": "097f9633",
   "metadata": {},
   "outputs": [],
   "source": [
    "# df7.na.fill('Missing').show()"
   ]
  },
  {
   "cell_type": "code",
   "execution_count": 48,
   "id": "2ea68c6a",
   "metadata": {},
   "outputs": [],
   "source": [
    "from pyspark.ml.feature import Imputer\n",
    "\n",
    "imputer = Imputer(\n",
    "    inputCols=['Age','Experience','Sallary'],\n",
    "    outputCols=[\"{}_imputed\".format(c) for c in ['Age','Experience','Sallary']]\n",
    ").setStrategy(\"mean\")\n",
    "\n",
    "\n",
    "\n",
    "# imputer = Imputer(\n",
    "#     inputCols=['Age','Experience','Sallary'],\n",
    "#     outputCols=[\"{}_imputed\".format(c) for c in ['Age','Experience','Sallary']]\n",
    "# ).setStrategy(\"median\")\n",
    "\n",
    "# imputer = Imputer(\n",
    "#     inputCols=['Age','Experience','Sallary'],\n",
    "#     outputCols=[\"{}_imputed\".format(c) for c in ['Age','Experience','Sallary']]\n",
    "# ).setStrategy(\"mode\")"
   ]
  },
  {
   "cell_type": "code",
   "execution_count": 45,
   "id": "79793ee5",
   "metadata": {},
   "outputs": [
    {
     "name": "stdout",
     "output_type": "stream",
     "text": [
      "+----+----+----------+-------+-----------+------------------+---------------+\n",
      "|Name| Age|Experience|Sallary|Age_imputed|Experience_imputed|Sallary_imputed|\n",
      "+----+----+----------+-------+-----------+------------------+---------------+\n",
      "| ABC|  22|         5|  30000|         22|                 5|          30000|\n",
      "| PQR|  30|         3|  20000|         30|                 3|          20000|\n",
      "| XYZ|null|      null|   null|         24|                 3|          22500|\n",
      "| DEF|null|         4|  25000|         24|                 4|          25000|\n",
      "| JKL|  20|         3|  15000|         20|                 3|          15000|\n",
      "+----+----+----------+-------+-----------+------------------+---------------+\n",
      "\n"
     ]
    }
   ],
   "source": [
    "imputer.fit(df7).transform(df7).show()"
   ]
  },
  {
   "cell_type": "markdown",
   "id": "326886ef",
   "metadata": {},
   "source": [
    "# pyspark Filter"
   ]
  },
  {
   "cell_type": "code",
   "execution_count": 52,
   "id": "eb146255",
   "metadata": {},
   "outputs": [],
   "source": [
    "df8 = spark.read.csv('dummy.csv',header=True,inferSchema=True)"
   ]
  },
  {
   "cell_type": "code",
   "execution_count": 53,
   "id": "8e2ee502",
   "metadata": {},
   "outputs": [
    {
     "name": "stdout",
     "output_type": "stream",
     "text": [
      "+----+---+----------+-------+\n",
      "|Name|Age|Experience|Sallary|\n",
      "+----+---+----------+-------+\n",
      "| ABC| 22|         5|  30000|\n",
      "| PQR| 30|         3|  20000|\n",
      "| XYZ| 24|         6|  35000|\n",
      "| DEF| 26|         4|  25000|\n",
      "| JKL| 20|         3|  15000|\n",
      "+----+---+----------+-------+\n",
      "\n"
     ]
    }
   ],
   "source": [
    "df8.show()"
   ]
  },
  {
   "cell_type": "code",
   "execution_count": 54,
   "id": "b3b7be8e",
   "metadata": {},
   "outputs": [
    {
     "name": "stdout",
     "output_type": "stream",
     "text": [
      "+----+---+----------+-------+\n",
      "|Name|Age|Experience|Sallary|\n",
      "+----+---+----------+-------+\n",
      "| PQR| 30|         3|  20000|\n",
      "| DEF| 26|         4|  25000|\n",
      "| JKL| 20|         3|  15000|\n",
      "+----+---+----------+-------+\n",
      "\n"
     ]
    }
   ],
   "source": [
    "df8.filter(\"Sallary <=25000\").show()"
   ]
  },
  {
   "cell_type": "code",
   "execution_count": 55,
   "id": "1278dfd7",
   "metadata": {},
   "outputs": [
    {
     "name": "stdout",
     "output_type": "stream",
     "text": [
      "+----+---+\n",
      "|Name|Age|\n",
      "+----+---+\n",
      "| PQR| 30|\n",
      "| DEF| 26|\n",
      "| JKL| 20|\n",
      "+----+---+\n",
      "\n"
     ]
    }
   ],
   "source": [
    "df8.filter(\"Sallary <=25000\").select(['Name','Age']).show()"
   ]
  },
  {
   "cell_type": "code",
   "execution_count": 59,
   "id": "03854b4e",
   "metadata": {},
   "outputs": [
    {
     "name": "stdout",
     "output_type": "stream",
     "text": [
      "+----+---+----------+-------+\n",
      "|Name|Age|Experience|Sallary|\n",
      "+----+---+----------+-------+\n",
      "| PQR| 30|         3|  20000|\n",
      "| DEF| 26|         4|  25000|\n",
      "| JKL| 20|         3|  15000|\n",
      "+----+---+----------+-------+\n",
      "\n"
     ]
    }
   ],
   "source": [
    "df8.filter(df8['Sallary']<=25000).show()"
   ]
  },
  {
   "cell_type": "code",
   "execution_count": 64,
   "id": "8d4f21b1",
   "metadata": {},
   "outputs": [
    {
     "name": "stdout",
     "output_type": "stream",
     "text": [
      "+----+---+----------+-------+\n",
      "|Name|Age|Experience|Sallary|\n",
      "+----+---+----------+-------+\n",
      "| ABC| 22|         5|  30000|\n",
      "| XYZ| 24|         6|  35000|\n",
      "+----+---+----------+-------+\n",
      "\n"
     ]
    }
   ],
   "source": [
    "df8.filter(~(df8['Sallary']<=25000)).show()"
   ]
  },
  {
   "cell_type": "code",
   "execution_count": 62,
   "id": "c80f78e4",
   "metadata": {},
   "outputs": [
    {
     "name": "stdout",
     "output_type": "stream",
     "text": [
      "+----+---+----------+-------+\n",
      "|Name|Age|Experience|Sallary|\n",
      "+----+---+----------+-------+\n",
      "| PQR| 30|         3|  20000|\n",
      "| DEF| 26|         4|  25000|\n",
      "+----+---+----------+-------+\n",
      "\n"
     ]
    }
   ],
   "source": [
    "df8.filter((df8['Sallary']<=25000) & (df8['Sallary']>15000)).show()"
   ]
  },
  {
   "cell_type": "code",
   "execution_count": 63,
   "id": "60abefa6",
   "metadata": {},
   "outputs": [
    {
     "name": "stdout",
     "output_type": "stream",
     "text": [
      "+----+---+----------+-------+\n",
      "|Name|Age|Experience|Sallary|\n",
      "+----+---+----------+-------+\n",
      "| ABC| 22|         5|  30000|\n",
      "| PQR| 30|         3|  20000|\n",
      "| XYZ| 24|         6|  35000|\n",
      "| DEF| 26|         4|  25000|\n",
      "| JKL| 20|         3|  15000|\n",
      "+----+---+----------+-------+\n",
      "\n"
     ]
    }
   ],
   "source": [
    "df8.filter((df8['Sallary']<=25000) | (df8['Sallary']>15000)).show()"
   ]
  },
  {
   "cell_type": "code",
   "execution_count": null,
   "id": "dc7471f6",
   "metadata": {},
   "outputs": [],
   "source": []
  },
  {
   "cell_type": "code",
   "execution_count": null,
   "id": "36babfed",
   "metadata": {},
   "outputs": [],
   "source": []
  },
  {
   "cell_type": "code",
   "execution_count": null,
   "id": "cefd1138",
   "metadata": {},
   "outputs": [],
   "source": []
  },
  {
   "cell_type": "code",
   "execution_count": null,
   "id": "b19d3b10",
   "metadata": {},
   "outputs": [],
   "source": []
  },
  {
   "cell_type": "code",
   "execution_count": null,
   "id": "4b9778e8",
   "metadata": {},
   "outputs": [],
   "source": []
  },
  {
   "cell_type": "markdown",
   "id": "91e53f00",
   "metadata": {},
   "source": [
    "# GroupBy And Aggregate Fun"
   ]
  },
  {
   "cell_type": "code",
   "execution_count": 69,
   "id": "3c2845cc",
   "metadata": {},
   "outputs": [
    {
     "name": "stdout",
     "output_type": "stream",
     "text": [
      "+----+---+----------+-------+\n",
      "|Name|Age|Experience|Sallary|\n",
      "+----+---+----------+-------+\n",
      "| ABC| 22|         5|  30000|\n",
      "| PQR| 30|         3|  20000|\n",
      "| XYZ| 24|         6|  35000|\n",
      "| DEF| 26|         4|  25000|\n",
      "| JKL| 20|         3|  15000|\n",
      "| JKL| 20|         3|   5000|\n",
      "+----+---+----------+-------+\n",
      "\n"
     ]
    }
   ],
   "source": [
    "df9 = spark.read.csv('dummy3.csv',header=True,inferSchema=True)\n",
    "df9.show()"
   ]
  },
  {
   "cell_type": "markdown",
   "id": "0f17d740",
   "metadata": {},
   "source": [
    "GroupBy\n",
    "\n",
    "Sum of salary age by similar name"
   ]
  },
  {
   "cell_type": "code",
   "execution_count": 71,
   "id": "9e101107",
   "metadata": {},
   "outputs": [
    {
     "name": "stdout",
     "output_type": "stream",
     "text": [
      "+----+--------+---------------+------------+\n",
      "|Name|sum(Age)|sum(Experience)|sum(Sallary)|\n",
      "+----+--------+---------------+------------+\n",
      "| JKL|      40|              6|       20000|\n",
      "| DEF|      26|              4|       25000|\n",
      "| PQR|      30|              3|       20000|\n",
      "| XYZ|      24|              6|       35000|\n",
      "| ABC|      22|              5|       30000|\n",
      "+----+--------+---------------+------------+\n",
      "\n"
     ]
    }
   ],
   "source": [
    "df9.groupBy('Name').sum().show()"
   ]
  },
  {
   "cell_type": "markdown",
   "id": "13dd2bbe",
   "metadata": {},
   "source": [
    "Gropby highets sallary"
   ]
  },
  {
   "cell_type": "code",
   "execution_count": 80,
   "id": "d939bd4c",
   "metadata": {},
   "outputs": [
    {
     "name": "stdout",
     "output_type": "stream",
     "text": [
      "+----+--------+---------------+------------+\n",
      "|Name|avg(Age)|avg(Experience)|avg(Sallary)|\n",
      "+----+--------+---------------+------------+\n",
      "| JKL|    20.0|            3.0|     10000.0|\n",
      "| DEF|    26.0|            4.0|     25000.0|\n",
      "| PQR|    30.0|            3.0|     20000.0|\n",
      "| XYZ|    24.0|            6.0|     35000.0|\n",
      "| ABC|    22.0|            5.0|     30000.0|\n",
      "+----+--------+---------------+------------+\n",
      "\n"
     ]
    }
   ],
   "source": [
    "df9.groupBy('Name').mean().show()"
   ]
  },
  {
   "cell_type": "code",
   "execution_count": 81,
   "id": "f1074411",
   "metadata": {},
   "outputs": [
    {
     "name": "stdout",
     "output_type": "stream",
     "text": [
      "+----+-----+\n",
      "|Name|count|\n",
      "+----+-----+\n",
      "| JKL|    2|\n",
      "| DEF|    1|\n",
      "| PQR|    1|\n",
      "| XYZ|    1|\n",
      "| ABC|    1|\n",
      "+----+-----+\n",
      "\n"
     ]
    }
   ],
   "source": [
    "df9.groupBy('Name').count().show()"
   ]
  },
  {
   "cell_type": "code",
   "execution_count": 87,
   "id": "e378387d",
   "metadata": {},
   "outputs": [
    {
     "name": "stdout",
     "output_type": "stream",
     "text": [
      "+----+--------+---------------+------------+\n",
      "|Name|max(Age)|max(Experience)|max(Sallary)|\n",
      "+----+--------+---------------+------------+\n",
      "| JKL|      20|              3|       15000|\n",
      "| DEF|      26|              4|       25000|\n",
      "| PQR|      30|              3|       20000|\n",
      "| XYZ|      24|              6|       35000|\n",
      "| ABC|      22|              5|       30000|\n",
      "+----+--------+---------------+------------+\n",
      "\n"
     ]
    }
   ],
   "source": [
    "df9.groupBy('Name').max().show()"
   ]
  },
  {
   "cell_type": "code",
   "execution_count": 88,
   "id": "9b5c213c",
   "metadata": {},
   "outputs": [
    {
     "name": "stdout",
     "output_type": "stream",
     "text": [
      "+----+--------+---------------+------------+\n",
      "|Name|min(Age)|min(Experience)|min(Sallary)|\n",
      "+----+--------+---------------+------------+\n",
      "| JKL|      20|              3|        5000|\n",
      "| DEF|      26|              4|       25000|\n",
      "| PQR|      30|              3|       20000|\n",
      "| XYZ|      24|              6|       35000|\n",
      "| ABC|      22|              5|       30000|\n",
      "+----+--------+---------------+------------+\n",
      "\n"
     ]
    }
   ],
   "source": [
    "df9.groupBy('Name').min().show()"
   ]
  },
  {
   "cell_type": "code",
   "execution_count": 89,
   "id": "7a34ea84",
   "metadata": {},
   "outputs": [
    {
     "name": "stdout",
     "output_type": "stream",
     "text": [
      "+----+--------+---------------+------------+\n",
      "|Name|avg(Age)|avg(Experience)|avg(Sallary)|\n",
      "+----+--------+---------------+------------+\n",
      "| JKL|    20.0|            3.0|     10000.0|\n",
      "| DEF|    26.0|            4.0|     25000.0|\n",
      "| PQR|    30.0|            3.0|     20000.0|\n",
      "| XYZ|    24.0|            6.0|     35000.0|\n",
      "| ABC|    22.0|            5.0|     30000.0|\n",
      "+----+--------+---------------+------------+\n",
      "\n"
     ]
    }
   ],
   "source": [
    "df9.groupBy('Name').avg().show()"
   ]
  },
  {
   "cell_type": "code",
   "execution_count": null,
   "id": "597cd1e4",
   "metadata": {},
   "outputs": [],
   "source": []
  },
  {
   "cell_type": "code",
   "execution_count": null,
   "id": "aa144c61",
   "metadata": {},
   "outputs": [],
   "source": []
  },
  {
   "cell_type": "markdown",
   "id": "bb4bc7d0",
   "metadata": {},
   "source": [
    "# Example of Pyspark ML"
   ]
  },
  {
   "cell_type": "code",
   "execution_count": 92,
   "id": "45e7ef01",
   "metadata": {},
   "outputs": [
    {
     "name": "stdout",
     "output_type": "stream",
     "text": [
      "+----+---+----------+-------+\n",
      "|Name|Age|Experience|Sallary|\n",
      "+----+---+----------+-------+\n",
      "| ABC| 22|         5|  30000|\n",
      "| PQR| 30|         3|  20000|\n",
      "| XYZ| 24|         6|  35000|\n",
      "| DEF| 26|         4|  25000|\n",
      "| JKL| 20|         3|  15000|\n",
      "+----+---+----------+-------+\n",
      "\n"
     ]
    }
   ],
   "source": [
    "df10 = spark.read.csv('dummy.csv',header=True,inferSchema=True)\n",
    "df10.show()"
   ]
  },
  {
   "cell_type": "code",
   "execution_count": 93,
   "id": "29ba3c78",
   "metadata": {},
   "outputs": [
    {
     "data": {
      "text/plain": [
       "['Name', 'Age', 'Experience', 'Sallary']"
      ]
     },
     "execution_count": 93,
     "metadata": {},
     "output_type": "execute_result"
    }
   ],
   "source": [
    "df10.columns"
   ]
  },
  {
   "cell_type": "code",
   "execution_count": 98,
   "id": "0f636e59",
   "metadata": {},
   "outputs": [],
   "source": [
    "from pyspark.ml.feature import VectorAssembler\n",
    "featureAssemlber = VectorAssembler(inputCols=['Age','Experience'],outputCol=\"Independent Features\")"
   ]
  },
  {
   "cell_type": "code",
   "execution_count": 99,
   "id": "846521a6",
   "metadata": {},
   "outputs": [],
   "source": [
    "output = featureAssemlber.transform(df10)"
   ]
  },
  {
   "cell_type": "code",
   "execution_count": 100,
   "id": "23d2236c",
   "metadata": {},
   "outputs": [
    {
     "name": "stdout",
     "output_type": "stream",
     "text": [
      "+----+---+----------+-------+--------------------+\n",
      "|Name|Age|Experience|Sallary|Independent Features|\n",
      "+----+---+----------+-------+--------------------+\n",
      "| ABC| 22|         5|  30000|          [22.0,5.0]|\n",
      "| PQR| 30|         3|  20000|          [30.0,3.0]|\n",
      "| XYZ| 24|         6|  35000|          [24.0,6.0]|\n",
      "| DEF| 26|         4|  25000|          [26.0,4.0]|\n",
      "| JKL| 20|         3|  15000|          [20.0,3.0]|\n",
      "+----+---+----------+-------+--------------------+\n",
      "\n"
     ]
    }
   ],
   "source": [
    "output.show()"
   ]
  },
  {
   "cell_type": "code",
   "execution_count": 103,
   "id": "1406525d",
   "metadata": {},
   "outputs": [],
   "source": [
    "final_data = output.select(\"Independent Features\",\"Sallary\")"
   ]
  },
  {
   "cell_type": "code",
   "execution_count": 104,
   "id": "d3712873",
   "metadata": {},
   "outputs": [
    {
     "name": "stdout",
     "output_type": "stream",
     "text": [
      "+--------------------+-------+\n",
      "|Independent Features|Sallary|\n",
      "+--------------------+-------+\n",
      "|          [22.0,5.0]|  30000|\n",
      "|          [30.0,3.0]|  20000|\n",
      "|          [24.0,6.0]|  35000|\n",
      "|          [26.0,4.0]|  25000|\n",
      "|          [20.0,3.0]|  15000|\n",
      "+--------------------+-------+\n",
      "\n"
     ]
    }
   ],
   "source": [
    "final_data.show()"
   ]
  },
  {
   "cell_type": "code",
   "execution_count": 107,
   "id": "828f7779",
   "metadata": {},
   "outputs": [],
   "source": [
    "from pyspark.ml.regression import LinearRegression\n",
    "train_data,test_data = final_data.randomSplit([0.60,0.40])\n",
    "regressor = LinearRegression(featuresCol='Independent Features', labelCol='Sallary')\n",
    "regressor= regressor.fit(train_data)"
   ]
  },
  {
   "cell_type": "code",
   "execution_count": 108,
   "id": "ec7bbeb0",
   "metadata": {},
   "outputs": [
    {
     "data": {
      "text/plain": [
       "DenseVector([519.4805, 6006.4935])"
      ]
     },
     "execution_count": 108,
     "metadata": {},
     "output_type": "execute_result"
    }
   ],
   "source": [
    "regressor.coefficients"
   ]
  },
  {
   "cell_type": "code",
   "execution_count": 110,
   "id": "c988d36f",
   "metadata": {},
   "outputs": [
    {
     "data": {
      "text/plain": [
       "-13262.987012987272"
      ]
     },
     "execution_count": 110,
     "metadata": {},
     "output_type": "execute_result"
    }
   ],
   "source": [
    "regressor.intercept"
   ]
  },
  {
   "cell_type": "code",
   "execution_count": 111,
   "id": "fc7f6cb2",
   "metadata": {},
   "outputs": [],
   "source": [
    "pred_result = regressor.evaluate(test_data)"
   ]
  },
  {
   "cell_type": "code",
   "execution_count": 113,
   "id": "26ec58b1",
   "metadata": {},
   "outputs": [
    {
     "name": "stdout",
     "output_type": "stream",
     "text": [
      "+--------------------+-------+-----------------+\n",
      "|Independent Features|Sallary|       prediction|\n",
      "+--------------------+-------+-----------------+\n",
      "|          [22.0,5.0]|  30000|28198.05194805193|\n",
      "+--------------------+-------+-----------------+\n",
      "\n"
     ]
    }
   ],
   "source": [
    "pred_result.predictions.show()"
   ]
  },
  {
   "cell_type": "code",
   "execution_count": 114,
   "id": "25cf6913",
   "metadata": {},
   "outputs": [
    {
     "data": {
      "text/plain": [
       "1801.9480519480712"
      ]
     },
     "execution_count": 114,
     "metadata": {},
     "output_type": "execute_result"
    }
   ],
   "source": [
    "pred_result.meanAbsoluteError"
   ]
  },
  {
   "cell_type": "code",
   "execution_count": 115,
   "id": "5898d32c",
   "metadata": {},
   "outputs": [
    {
     "data": {
      "text/plain": [
       "3247016.7819194486"
      ]
     },
     "execution_count": 115,
     "metadata": {},
     "output_type": "execute_result"
    }
   ],
   "source": [
    "pred_result.meanSquaredError"
   ]
  },
  {
   "cell_type": "code",
   "execution_count": null,
   "id": "92076375",
   "metadata": {},
   "outputs": [],
   "source": []
  }
 ],
 "metadata": {
  "kernelspec": {
   "display_name": "Python 3 (ipykernel)",
   "language": "python",
   "name": "python3"
  },
  "language_info": {
   "codemirror_mode": {
    "name": "ipython",
    "version": 3
   },
   "file_extension": ".py",
   "mimetype": "text/x-python",
   "name": "python",
   "nbconvert_exporter": "python",
   "pygments_lexer": "ipython3",
   "version": "3.9.13"
  }
 },
 "nbformat": 4,
 "nbformat_minor": 5
}
