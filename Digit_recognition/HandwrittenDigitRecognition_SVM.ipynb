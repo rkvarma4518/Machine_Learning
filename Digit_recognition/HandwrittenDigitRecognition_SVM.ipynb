{
 "cells": [
  {
   "cell_type": "markdown",
   "metadata": {
    "id": "l-FmNW1v-wEx"
   },
   "source": [
    "# **Digit Recognition | SVM**"
   ]
  },
  {
   "cell_type": "markdown",
   "metadata": {
    "id": "aPZ-cSea-8Pz"
   },
   "source": [
    "### *Importing Basic Libraries*"
   ]
  },
  {
   "cell_type": "code",
   "execution_count": 1,
   "metadata": {
    "id": "KgOTIpQe-Sij"
   },
   "outputs": [],
   "source": [
    "import numpy as np\n",
    "from sklearn.datasets import load_digits"
   ]
  },
  {
   "cell_type": "markdown",
   "metadata": {
    "id": "tAEv1LgB_OxV"
   },
   "source": [
    "### *Load Dataset*\n",
    ]
  },
  {
   "cell_type": "code",
   "execution_count": 2,
   "metadata": {
    "id": "mEkoGFM3_Rl6"
   },
   "outputs": [],
   "source": [
    "dataset = load_digits()"
   ]
  },
  {
   "cell_type": "markdown",
   "metadata": {
    "id": "fIw9RCUrACG9"
   },
   "source": [
    "### *Summarize Dataset*"
   ]
  },
  {
   "cell_type": "code",
   "execution_count": 3,
   "metadata": {
    "colab": {
     "base_uri": "https://localhost:8080/"
    },
    "id": "OKcoy2EJAFj2",
    "outputId": "75dd0c3c-93e7-472f-e5de-d82e7388f439"
   },
   "outputs": [
    {
     "name": "stdout",
     "output_type": "stream",
     "text": [
      "[[ 0.  0.  5. ...  0.  0.  0.]\n",
      " [ 0.  0.  0. ... 10.  0.  0.]\n",
      " [ 0.  0.  0. ... 16.  9.  0.]\n",
      " ...\n",
      " [ 0.  0.  1. ...  6.  0.  0.]\n",
      " [ 0.  0.  2. ... 12.  0.  0.]\n",
      " [ 0.  0. 10. ... 12.  1.  0.]]\n",
      "[0 1 2 ... 8 9 8]\n",
      "(1797, 64)\n",
      "(1797, 8, 8)\n",
      "1797\n"
     ]
    }
   ],
   "source": [
    "print(dataset.data)\n",
    "print(dataset.target)\n",
    "\n",
    "print(dataset.data.shape)\n",
    "print(dataset.images.shape)\n",
    "\n",
    "dataimageLength = len(dataset.images)\n",
    "print(dataimageLength)"
   ]
  },
  {
   "cell_type": "markdown",
   "metadata": {
    "id": "epmSBzRtCgdh"
   },
   "source": [
    "### *Visualize the Dataset*"
   ]
  },
  {
   "cell_type": "code",
   "execution_count": 7,
   "metadata": {
    "colab": {
     "base_uri": "https://localhost:8080/",
     "height": 433
    },
    "id": "sGYJfmAvCj3a",
    "outputId": "236fabdd-2df8-4108-9f24-35cdb3e24c4c"
   },
   "outputs": [
    {
     "data": {
      "text/plain": [
       "<Figure size 432x288 with 0 Axes>"
      ]
     },
     "metadata": {},
     "output_type": "display_data"
    },
    {
     "data": {
      "image/png": "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\n",
      "text/plain": [
       "<Figure size 288x288 with 1 Axes>"
      ]
     },
     "metadata": {
      "needs_background": "light"
     },
     "output_type": "display_data"
    },
    {
     "data": {
      "text/plain": [
       "array([[ 0.,  0.,  2., 14., 15.,  5.,  0.,  0.],\n",
       "       [ 0.,  0., 10., 16., 16., 15.,  1.,  0.],\n",
       "       [ 0.,  3., 16., 10., 10., 16.,  4.,  0.],\n",
       "       [ 0.,  5., 16.,  0.,  0., 14.,  6.,  0.],\n",
       "       [ 0.,  5., 16.,  6.,  0., 12.,  7.,  0.],\n",
       "       [ 0.,  1., 15., 13.,  4., 13.,  6.,  0.],\n",
       "       [ 0.,  0., 11., 16., 16., 15.,  0.,  0.],\n",
       "       [ 0.,  0.,  2., 11., 13.,  4.,  0.,  0.]])"
      ]
     },
     "execution_count": 7,
     "metadata": {},
     "output_type": "execute_result"
    }
   ],
   "source": [
    "n=55 #No. of Sample out of Samples total 1797\n",
    "\n",
    "import matplotlib.pyplot as plt\n",
    "plt.gray()\n",
    "plt.matshow(dataset.images[n])\n",
    "plt.show()\n",
    "\n",
    "dataset.images[n]"
   ]
  },
  {
   "cell_type": "markdown",
   "metadata": {
    "id": "woyBgG8hGXI-"
   },
   "source": [
    "### *Segregate Dataset into X(Input/IndependentVariable) & Y(Output/DependentVariable)*\n",
    "\n",
    "### *Input - Pixel | Output - Class*"
   ]
  },
  {
   "cell_type": "code",
   "execution_count": 8,
   "metadata": {
    "colab": {
     "base_uri": "https://localhost:8080/"
    },
    "id": "OYBk3bVmGbxW",
    "outputId": "f3405244-3ff6-41ed-d192-23fafdd843fd"
   },
   "outputs": [
    {
     "data": {
      "text/plain": [
       "array([[ 0.,  0.,  5., ...,  0.,  0.,  0.],\n",
       "       [ 0.,  0.,  0., ..., 10.,  0.,  0.],\n",
       "       [ 0.,  0.,  0., ..., 16.,  9.,  0.],\n",
       "       ...,\n",
       "       [ 0.,  0.,  1., ...,  6.,  0.,  0.],\n",
       "       [ 0.,  0.,  2., ..., 12.,  0.,  0.],\n",
       "       [ 0.,  0., 10., ..., 12.,  1.,  0.]])"
      ]
     },
     "execution_count": 8,
     "metadata": {},
     "output_type": "execute_result"
    }
   ],
   "source": [
    "X = dataset.images.reshape((dataimageLength,-1))\n",
    "X"
   ]
  },
  {
   "cell_type": "code",
   "execution_count": 9,
   "metadata": {
    "colab": {
     "base_uri": "https://localhost:8080/"
    },
    "id": "Of_82fBDHC4R",
    "outputId": "8444c3cf-1e77-4f16-9b46-176e15ce3edd"
   },
   "outputs": [
    {
     "data": {
      "text/plain": [
       "array([0, 1, 2, ..., 8, 9, 8])"
      ]
     },
     "execution_count": 9,
     "metadata": {},
     "output_type": "execute_result"
    }
   ],
   "source": [
    "Y = dataset.target\n",
    "Y"
   ]
  },
  {
   "cell_type": "markdown",
   "metadata": {
    "id": "QbO0qzzeHM7d"
   },
   "source": [
    "### *Splitting Dataset into Train & Test*"
   ]
  },
  {
   "cell_type": "code",
   "execution_count": 10,
   "metadata": {
    "colab": {
     "base_uri": "https://localhost:8080/"
    },
    "id": "1760lRsBHNw2",
    "outputId": "dfa659ad-f271-4d35-8302-9dd7ca05b554"
   },
   "outputs": [
    {
     "name": "stdout",
     "output_type": "stream",
     "text": [
      "(1347, 64)\n",
      "(450, 64)\n"
     ]
    }
   ],
   "source": [
    "from sklearn.model_selection import train_test_split\n",
    "X_train, X_test, y_train, y_test = train_test_split(X, Y, test_size = 0.25, random_state = 0)\n",
    "print(X_train.shape)\n",
    "print(X_test.shape)"
   ]
  },
  {
   "cell_type": "markdown",
   "metadata": {
    "id": "e8DmcF1oHzTS"
   },
   "source": [
    "### *Training*"
   ]
  },
  {
   "cell_type": "code",
   "execution_count": 11,
   "metadata": {
    "colab": {
     "base_uri": "https://localhost:8080/"
    },
    "id": "uI79KiPYH3Ud",
    "outputId": "acc4bcb6-753d-4c3d-d342-87a887815db3"
   },
   "outputs": [
    {
     "data": {
      "text/plain": [
       "SVC(kernel='linear')"
      ]
     },
     "execution_count": 11,
     "metadata": {},
     "output_type": "execute_result"
    }
   ],
   "source": [
    "from sklearn import svm\n",
    "model = svm.SVC(kernel='linear')\n",
    "model.fit(X_train,y_train)"
   ]
  },
  {
   "cell_type": "markdown",
   "metadata": {
    "id": "umVph3jWO1_l"
   },
   "source": [
    "### *Predicting, what the digit is from Test Data*"
   ]
  },
  {
   "cell_type": "code",
   "execution_count": 23,
   "metadata": {
    "colab": {
     "base_uri": "https://localhost:8080/",
     "height": 317
    },
    "id": "Cf1TTKbAO8i9",
    "outputId": "91fbe3dd-1a78-4a0a-8519-7720abe8c5e3"
   },
   "outputs": [
    {
     "name": "stdout",
     "output_type": "stream",
     "text": [
      "[3]\n",
      "\n",
      "\n"
     ]
    },
    {
     "data": {
      "image/png": "iVBORw0KGgoAAAANSUhEUgAAAOcAAAD3CAYAAADmIkO7AAAAOXRFWHRTb2Z0d2FyZQBNYXRwbG90bGliIHZlcnNpb24zLjQuMywgaHR0cHM6Ly9tYXRwbG90bGliLm9yZy/MnkTPAAAACXBIWXMAAAsTAAALEwEAmpwYAAAE2UlEQVR4nO3dIYvdVxrA4XPayJorumpNpqZQURFVt+LCivWh65cM/QbzERJbURhqq8LqNcnCirWRC6WUhFWRgYpCKOVUtHFDWpLl3F/vPg+MmPsX74HhN+feYeCda60B9Lxz6gMANxMnRIkTosQJUeKEKHFClDghSpxnYs751Zzz+ZzzuznnN3POv536TLyd6Z8QzsOc86MxxrdrrZdzzg/HGP8aY/xlrfXktCfjTbk5z8Ra6z9rrZevvv3l64MTHom3JM4zMuf8Ys75/Rjj6zHG8zHGP058JN6Ct7VnZs757hjjkzHGn8YYD9ZaP5z2RLwpN+eZWWv9uNb69xjjj2OMz059Ht6cOM/XreEz5++aOM/AnPMPc85P55zvzTnfnXP+eYzx1zHGP099Nt6cz5xnYM75/hjj72OMj8fPv3D/O8b4fK315UkPxlsRJ0R5WwtR4oQocUKUOCHq1q88P8u/Fj148GDrvKurq22zbt++vW3Wkyf7/qf+cDhsm3UC86YX3ZwQJU6IEidEiROixAlR4oQocUKUOCFKnBAlTogSJ0SJE6LECVHihChxQpQ4IUqcECVOiBInRIkTosQJUeKEKHFClDghSpwQJU6I+rV1DNvsXFnw8OHDbbPGGOP6+nrbrMvLy22zdq5jOB6P22ZVuDkhSpwQJU6IEidEiROixAlR4oQocUKUOCFKnBAlTogSJ0SJE6LECVHihChxQpQ4IUqcECVOiBInRIkTosQJUeKEKHFClDghSpwQNddar3v+2of/S0+fPt01ahwOh22zxhjjzp07W+ftsvNndubmTS+6OSFKnBAlTogSJ0SJE6LECVHihChxQpQ4IUqcECVOiBInRIkTosQJUeKEKHFClDghSpwQJU6IEidEiROixAlR4oQocUKUOCFKnBAlToi6deoDvHJxcbFt1u4dH8+ePds263g8bpv14sWLbbN277cpcHNClDghSpwQJU6IEidEiROixAlR4oQocUKUOCFKnBAlTogSJ0SJE6LECVHihChxQpQ4IUqcECVOiBInRIkTosQJUeKEKHFClDghaq61Xvf8tQ/5bXauLdi5jmGnx48fb523ef3DvOlFNydEiROixAlR4oQocUKUOCFKnBAlTogSJ0SJE6LECVHihChxQpQ4IUqcECVOiBInRIkTosQJUeKEKHFClDghSpwQJU6IEidEiROirGM4MztXP1xeXm6bdXFxsW3WGGPcv39/5zjrGOD3RJwQJU6IEidEiROixAlR4oQocUKUOCFKnBAlTogSJ0SJE6LECVHihChxQpQ4IUqcECVOiBInRIkTosQJUeKEKHFClDghSpwQdevUBziFq6urrfOOx+O2WTvXMTx69GjbrLt3726bVeHmhChxQpQ4IUqcECVOiBInRIkTosQJUeKEKHFClDghSpwQJU6IEidEiROixAlR4oQocUKUOCFKnBAlTogSJ0SJE6LECVHihChxQpQ4Ier/clfK4XDYOu/evXtb5+2yc3/J9fX1tlkVbk6IEidEiROixAlR4oQocUKUOCFKnBAlTogSJ0SJE6LECVHihChxQpQ4IUqcECVOiBInRIkTosQJUeKEKHFClDghSpwQJU6IEidEzbXWqc8A3MDNCVHihChxQpQ4IUqcECVOiPoJkpeJRz6+Sq8AAAAASUVORK5CYII=\n",
      "text/plain": [
       "<Figure size 432x288 with 1 Axes>"
      ]
     },
     "metadata": {
      "needs_background": "light"
     },
     "output_type": "display_data"
    }
   ],
   "source": [
    "n=3\n",
    "result = model.predict(dataset.images[n].reshape((1,-1)))\n",
    "plt.imshow(dataset.images[n], cmap=plt.cm.gray_r, interpolation='nearest')     \n",
    "print(result)\n",
    "print(\"\\n\")\n",
    "plt.axis('off')\n",
    "plt.title('%i' %result)\n",
    "plt.show()"
   ]
  },
  {
   "cell_type": "markdown",
   "metadata": {
    "id": "7LeUrxqkJP6w"
   },
   "source": [
    "### *Prediction for Test Data*"
   ]
  },
  {
   "cell_type": "code",
   "execution_count": 13,
   "metadata": {
    "colab": {
     "base_uri": "https://localhost:8080/"
    },
    "id": "2mcLDrhzJTwh",
    "outputId": "6bd33acd-27d6-4b0c-f640-3eacb0acd01b"
   },
   "outputs": [
    {
     "name": "stdout",
     "output_type": "stream",
     "text": [
      "[[2 2]\n",
      " [8 8]\n",
      " [2 2]\n",
      " [6 6]\n",
      " [6 6]\n",
      " [7 7]\n",
      " [1 1]\n",
      " [9 9]\n",
      " [8 8]\n",
      " [5 5]\n",
      " [2 2]\n",
      " [8 8]\n",
      " [6 6]\n",
      " [6 6]\n",
      " [6 6]\n",
      " [6 6]\n",
      " [1 1]\n",
      " [0 0]\n",
      " [5 5]\n",
      " [8 8]\n",
      " [8 8]\n",
      " [7 7]\n",
      " [8 8]\n",
      " [4 4]\n",
      " [7 7]\n",
      " [5 5]\n",
      " [4 4]\n",
      " [9 9]\n",
      " [2 2]\n",
      " [9 9]\n",
      " [4 4]\n",
      " [7 7]\n",
      " [6 6]\n",
      " [8 8]\n",
      " [9 9]\n",
      " [4 4]\n",
      " [3 3]\n",
      " [1 1]\n",
      " [0 0]\n",
      " [1 1]\n",
      " [8 8]\n",
      " [6 6]\n",
      " [7 7]\n",
      " [7 7]\n",
      " [1 1]\n",
      " [0 0]\n",
      " [7 7]\n",
      " [6 6]\n",
      " [2 2]\n",
      " [1 1]\n",
      " [9 9]\n",
      " [6 6]\n",
      " [7 7]\n",
      " [9 9]\n",
      " [0 0]\n",
      " [0 0]\n",
      " [5 5]\n",
      " [1 1]\n",
      " [6 6]\n",
      " [3 3]\n",
      " [0 0]\n",
      " [2 2]\n",
      " [3 3]\n",
      " [4 4]\n",
      " [1 1]\n",
      " [9 9]\n",
      " [2 2]\n",
      " [6 6]\n",
      " [9 9]\n",
      " [1 1]\n",
      " [8 8]\n",
      " [3 3]\n",
      " [5 5]\n",
      " [1 1]\n",
      " [2 2]\n",
      " [8 8]\n",
      " [2 2]\n",
      " [2 2]\n",
      " [9 9]\n",
      " [7 7]\n",
      " [2 2]\n",
      " [3 3]\n",
      " [6 6]\n",
      " [0 0]\n",
      " [5 5]\n",
      " [3 3]\n",
      " [7 7]\n",
      " [5 5]\n",
      " [1 1]\n",
      " [2 2]\n",
      " [9 9]\n",
      " [9 9]\n",
      " [3 3]\n",
      " [1 1]\n",
      " [7 7]\n",
      " [7 7]\n",
      " [4 4]\n",
      " [8 8]\n",
      " [5 5]\n",
      " [8 8]\n",
      " [5 5]\n",
      " [5 5]\n",
      " [2 2]\n",
      " [5 5]\n",
      " [9 9]\n",
      " [0 0]\n",
      " [7 7]\n",
      " [1 1]\n",
      " [4 4]\n",
      " [4 7]\n",
      " [3 3]\n",
      " [4 4]\n",
      " [8 8]\n",
      " [9 9]\n",
      " [7 7]\n",
      " [9 9]\n",
      " [8 8]\n",
      " [2 2]\n",
      " [1 6]\n",
      " [5 5]\n",
      " [2 2]\n",
      " [5 5]\n",
      " [8 8]\n",
      " [4 4]\n",
      " [1 8]\n",
      " [7 7]\n",
      " [0 0]\n",
      " [6 6]\n",
      " [1 1]\n",
      " [5 5]\n",
      " [5 9]\n",
      " [9 9]\n",
      " [9 9]\n",
      " [5 5]\n",
      " [9 9]\n",
      " [9 9]\n",
      " [5 5]\n",
      " [7 7]\n",
      " [5 5]\n",
      " [6 6]\n",
      " [2 2]\n",
      " [8 8]\n",
      " [6 6]\n",
      " [9 9]\n",
      " [6 6]\n",
      " [1 1]\n",
      " [5 5]\n",
      " [1 1]\n",
      " [5 5]\n",
      " [9 9]\n",
      " [9 9]\n",
      " [1 1]\n",
      " [5 5]\n",
      " [3 3]\n",
      " [6 6]\n",
      " [1 1]\n",
      " [8 8]\n",
      " [9 9]\n",
      " [8 8]\n",
      " [7 7]\n",
      " [6 6]\n",
      " [7 7]\n",
      " [6 6]\n",
      " [5 5]\n",
      " [6 6]\n",
      " [0 0]\n",
      " [8 8]\n",
      " [8 8]\n",
      " [9 9]\n",
      " [8 8]\n",
      " [6 6]\n",
      " [1 1]\n",
      " [0 0]\n",
      " [4 4]\n",
      " [1 1]\n",
      " [6 6]\n",
      " [3 3]\n",
      " [8 8]\n",
      " [6 6]\n",
      " [7 7]\n",
      " [4 4]\n",
      " [9 5]\n",
      " [6 6]\n",
      " [3 3]\n",
      " [0 0]\n",
      " [3 3]\n",
      " [3 3]\n",
      " [3 3]\n",
      " [0 0]\n",
      " [7 7]\n",
      " [7 7]\n",
      " [5 5]\n",
      " [7 7]\n",
      " [8 8]\n",
      " [0 0]\n",
      " [7 7]\n",
      " [1 8]\n",
      " [9 9]\n",
      " [6 6]\n",
      " [4 4]\n",
      " [5 5]\n",
      " [0 0]\n",
      " [1 1]\n",
      " [4 4]\n",
      " [6 6]\n",
      " [4 4]\n",
      " [3 3]\n",
      " [3 3]\n",
      " [0 0]\n",
      " [9 9]\n",
      " [5 5]\n",
      " [3 9]\n",
      " [2 2]\n",
      " [1 1]\n",
      " [4 4]\n",
      " [2 2]\n",
      " [1 1]\n",
      " [6 6]\n",
      " [8 8]\n",
      " [9 9]\n",
      " [2 2]\n",
      " [4 4]\n",
      " [9 9]\n",
      " [3 3]\n",
      " [7 7]\n",
      " [6 6]\n",
      " [2 2]\n",
      " [3 3]\n",
      " [3 3]\n",
      " [1 1]\n",
      " [6 6]\n",
      " [9 9]\n",
      " [3 3]\n",
      " [6 6]\n",
      " [3 3]\n",
      " [2 2]\n",
      " [2 2]\n",
      " [0 0]\n",
      " [7 7]\n",
      " [6 6]\n",
      " [1 1]\n",
      " [1 1]\n",
      " [9 9]\n",
      " [7 7]\n",
      " [2 2]\n",
      " [7 7]\n",
      " [8 8]\n",
      " [5 5]\n",
      " [5 5]\n",
      " [7 7]\n",
      " [5 5]\n",
      " [2 2]\n",
      " [3 3]\n",
      " [7 7]\n",
      " [2 2]\n",
      " [7 7]\n",
      " [5 5]\n",
      " [5 5]\n",
      " [7 7]\n",
      " [0 0]\n",
      " [9 9]\n",
      " [1 1]\n",
      " [6 6]\n",
      " [5 5]\n",
      " [9 9]\n",
      " [7 7]\n",
      " [4 4]\n",
      " [3 3]\n",
      " [8 8]\n",
      " [0 0]\n",
      " [3 3]\n",
      " [6 6]\n",
      " [4 4]\n",
      " [6 6]\n",
      " [3 3]\n",
      " [2 2]\n",
      " [6 6]\n",
      " [8 8]\n",
      " [8 8]\n",
      " [8 8]\n",
      " [4 4]\n",
      " [6 6]\n",
      " [7 7]\n",
      " [5 5]\n",
      " [2 2]\n",
      " [4 4]\n",
      " [5 5]\n",
      " [3 3]\n",
      " [2 2]\n",
      " [4 4]\n",
      " [6 6]\n",
      " [9 9]\n",
      " [4 4]\n",
      " [5 5]\n",
      " [4 4]\n",
      " [3 3]\n",
      " [4 4]\n",
      " [6 6]\n",
      " [2 2]\n",
      " [9 9]\n",
      " [0 0]\n",
      " [1 1]\n",
      " [7 7]\n",
      " [2 2]\n",
      " [0 0]\n",
      " [9 9]\n",
      " [6 6]\n",
      " [0 0]\n",
      " [4 4]\n",
      " [2 2]\n",
      " [0 0]\n",
      " [7 7]\n",
      " [9 9]\n",
      " [8 8]\n",
      " [5 5]\n",
      " [4 4]\n",
      " [8 8]\n",
      " [2 2]\n",
      " [8 8]\n",
      " [4 4]\n",
      " [3 3]\n",
      " [7 7]\n",
      " [2 2]\n",
      " [6 6]\n",
      " [9 9]\n",
      " [1 1]\n",
      " [5 5]\n",
      " [1 1]\n",
      " [0 0]\n",
      " [8 8]\n",
      " [2 2]\n",
      " [8 1]\n",
      " [9 9]\n",
      " [5 5]\n",
      " [6 6]\n",
      " [2 8]\n",
      " [2 2]\n",
      " [7 7]\n",
      " [2 2]\n",
      " [1 1]\n",
      " [5 5]\n",
      " [1 1]\n",
      " [6 6]\n",
      " [4 4]\n",
      " [5 5]\n",
      " [0 0]\n",
      " [9 9]\n",
      " [4 4]\n",
      " [1 1]\n",
      " [1 1]\n",
      " [7 7]\n",
      " [0 0]\n",
      " [8 8]\n",
      " [9 9]\n",
      " [0 0]\n",
      " [5 5]\n",
      " [4 4]\n",
      " [3 3]\n",
      " [8 8]\n",
      " [8 8]\n",
      " [6 6]\n",
      " [5 5]\n",
      " [3 3]\n",
      " [4 4]\n",
      " [4 4]\n",
      " [4 4]\n",
      " [8 8]\n",
      " [8 8]\n",
      " [7 7]\n",
      " [0 0]\n",
      " [9 9]\n",
      " [6 6]\n",
      " [3 3]\n",
      " [5 5]\n",
      " [2 2]\n",
      " [3 3]\n",
      " [0 0]\n",
      " [8 8]\n",
      " [8 3]\n",
      " [3 3]\n",
      " [1 1]\n",
      " [3 3]\n",
      " [3 3]\n",
      " [0 0]\n",
      " [0 0]\n",
      " [4 4]\n",
      " [6 6]\n",
      " [0 0]\n",
      " [7 7]\n",
      " [7 7]\n",
      " [6 6]\n",
      " [2 2]\n",
      " [0 0]\n",
      " [4 4]\n",
      " [4 4]\n",
      " [2 2]\n",
      " [3 3]\n",
      " [7 7]\n",
      " [1 8]\n",
      " [9 9]\n",
      " [8 8]\n",
      " [6 6]\n",
      " [8 8]\n",
      " [5 5]\n",
      " [6 6]\n",
      " [2 2]\n",
      " [2 2]\n",
      " [3 3]\n",
      " [1 1]\n",
      " [7 7]\n",
      " [7 7]\n",
      " [8 8]\n",
      " [0 0]\n",
      " [3 3]\n",
      " [3 3]\n",
      " [2 2]\n",
      " [1 1]\n",
      " [5 5]\n",
      " [5 5]\n",
      " [9 9]\n",
      " [1 1]\n",
      " [3 3]\n",
      " [7 7]\n",
      " [0 0]\n",
      " [0 0]\n",
      " [7 7]\n",
      " [0 0]\n",
      " [4 4]\n",
      " [5 5]\n",
      " [8 9]\n",
      " [9 3]\n",
      " [3 3]\n",
      " [4 4]\n",
      " [3 3]\n",
      " [1 1]\n",
      " [8 8]\n",
      " [9 9]\n",
      " [8 8]\n",
      " [3 3]\n",
      " [6 6]\n",
      " [2 2]\n",
      " [1 1]\n",
      " [6 6]\n",
      " [2 2]\n",
      " [1 1]\n",
      " [7 7]\n",
      " [5 5]\n",
      " [5 5]\n",
      " [1 1]\n",
      " [9 9]]\n"
     ]
    }
   ],
   "source": [
    "y_pred = model.predict(X_test)\n",
    "print(np.concatenate((y_pred.reshape(len(y_pred),1), y_test.reshape(len(y_test),1)),1))"
   ]
  },
  {
   "cell_type": "markdown",
   "metadata": {
    "id": "gfNRnb-MJi9P"
   },
   "source": [
    "### *Evaluate Model - Accuracy Score*"
   ]
  },
  {
   "cell_type": "code",
   "execution_count": 14,
   "metadata": {
    "colab": {
     "base_uri": "https://localhost:8080/"
    },
    "id": "irsPBj9KJnl-",
    "outputId": "1a08bd04-1dc1-47d2-b11d-012df6d1fe6f"
   },
   "outputs": [
    {
     "name": "stdout",
     "output_type": "stream",
     "text": [
      "Accuracy of the Model: 97.11111111111111%\n"
     ]
    }
   ],
   "source": [
    "from sklearn.metrics import accuracy_score\n",
    "print(\"Accuracy of the Model: {0}%\".format(accuracy_score(y_test, y_pred)*100))"
   ]
  },
  {
   "cell_type": "markdown",
   "metadata": {
    "id": "C95vmesVLUrO"
   },
   "source": [
    "### *Play with the Different Method*"
   ]
  },
  {
   "cell_type": "code",
   "execution_count": 15,
   "metadata": {
    "colab": {
     "base_uri": "https://localhost:8080/"
    },
    "id": "BVv7Pux6LdpH",
    "outputId": "322d8845-d2e9-4e53-a689-eda4f6595700"
   },
   "outputs": [
    {
     "name": "stdout",
     "output_type": "stream",
     "text": [
      "Accuracy of the Model 1: 97.11111111111111%\n",
      "Accuracy of the Model 2: 99.11111111111111%\n",
      "Accuracy of the Model 3: 99.55555555555556%\n",
      "Accuracy of the Model 4: 96.66666666666667%\n"
     ]
    }
   ],
   "source": [
    "from sklearn import svm\n",
    "model1 = svm.SVC(kernel='linear')\n",
    "model2 = svm.SVC(kernel='rbf')\n",
    "model3 = svm.SVC(gamma=0.001)\n",
    "model4 = svm.SVC(gamma=0.001,C=0.1)\n",
    "\n",
    "model1.fit(X_train,y_train)\n",
    "model2.fit(X_train,y_train)\n",
    "model3.fit(X_train,y_train)\n",
    "model4.fit(X_train,y_train)\n",
    "\n",
    "y_predModel1 = model1.predict(X_test)\n",
    "y_predModel2 = model2.predict(X_test)\n",
    "y_predModel3 = model3.predict(X_test)\n",
    "y_predModel4 = model4.predict(X_test)\n",
    "\n",
    "print(\"Accuracy of the Model 1: {0}%\".format(accuracy_score(y_test, y_predModel1)*100))\n",
    "print(\"Accuracy of the Model 2: {0}%\".format(accuracy_score(y_test, y_predModel2)*100))\n",
    "print(\"Accuracy of the Model 3: {0}%\".format(accuracy_score(y_test, y_predModel3)*100))\n",
    "print(\"Accuracy of the Model 4: {0}%\".format(accuracy_score(y_test, y_predModel4)*100))"
   ]
  },
  {
   "cell_type": "markdown",
   "metadata": {
    "id": "Z22DqlQn_DaS"
   },
   "source": []
  }
 ],
 "metadata": {
  "colab": {
   "collapsed_sections": [],
   "name": "Day5_HandwrittenDigitRecognition_SVM.ipynb",
   "provenance": []
  },
  "kernelspec": {
   "display_name": "Python 3 (ipykernel)",
   "language": "python",
   "name": "python3"
  },
  "language_info": {
   "codemirror_mode": {
    "name": "ipython",
    "version": 3
   },
   "file_extension": ".py",
   "mimetype": "text/x-python",
   "name": "python",
   "nbconvert_exporter": "python",
   "pygments_lexer": "ipython3",
   "version": "3.9.6"
  }
 },
 "nbformat": 4,
 "nbformat_minor": 1
}
